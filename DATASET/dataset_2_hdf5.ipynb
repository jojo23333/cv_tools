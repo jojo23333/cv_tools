{
 "cells": [
  {
   "cell_type": "code",
   "execution_count": 1,
   "id": "fe04af5c",
   "metadata": {},
   "outputs": [],
   "source": [
    "from random import shuffle\n",
    "import numpy as np\n",
    "import h5py\n",
    "import glob\n",
    "import cv2"
   ]
  },
  {
   "cell_type": "code",
   "execution_count": 2,
   "id": "17d101dc",
   "metadata": {},
   "outputs": [],
   "source": [
    "shuffle_data = True  # shuffle the addresses\n",
    "hdf5_path = './data/tiny-imagenet-200/tiny-imagenet.hdf5'  # file path for the created .hdf5 file\n",
    "train_data_path = './data/tiny-imagenet-200/train/**/*.JPEG' # the original data path\n",
    "val_data_path = './data/tiny-imagenet-200/val/**/*.JPEG'\n",
    "meta_data_path = './data/tiny-imagenet-200/wnids.txt'\n",
    "\n",
    "# get all the image paths \n",
    "train_addrs = glob.glob(train_data_path, recursive=True)\n",
    "val_addrs = glob.glob(val_data_path, recursive=True)\n",
    "with open(meta_data_path, 'r') as f:\n",
    "    wnids = f.read().splitlines() "
   ]
  },
  {
   "cell_type": "code",
   "execution_count": 3,
   "id": "970b89ed",
   "metadata": {},
   "outputs": [
    {
     "data": {
      "text/plain": [
       "9"
      ]
     },
     "execution_count": 3,
     "metadata": {},
     "output_type": "execute_result"
    }
   ],
   "source": [
    "wnids.index('n03970156')"
   ]
  },
  {
   "cell_type": "code",
   "execution_count": 4,
   "id": "f482c5a3",
   "metadata": {},
   "outputs": [
    {
     "data": {
      "text/plain": [
       "(100000, 10000)"
      ]
     },
     "execution_count": 4,
     "metadata": {},
     "output_type": "execute_result"
    }
   ],
   "source": [
    "len(train_addrs), len(val_addrs)"
   ]
  },
  {
   "cell_type": "code",
   "execution_count": 5,
   "id": "bba1b712",
   "metadata": {},
   "outputs": [],
   "source": [
    "train_labels = [x.split('/')[-3] for x in train_addrs]\n",
    "train_labels = [wnids.index(x) for x in train_labels]\n",
    "val_labels = [x.split('/')[-2] for x in val_addrs]\n",
    "val_labels = [wnids.index(x) for x in val_labels]\n",
    "\n",
    "train_shape = (len(train_addrs), 64, 64, 3)\n",
    "test_shape = (len(val_addrs), 64, 64, 3)\n",
    "\n",
    "# open a hdf5 file and create earrays \n",
    "f = h5py.File(hdf5_path, mode='w')\n",
    "\n",
    "# PIL.Image: the pixels range is 0-255,dtype is uint.\n",
    "# matplotlib: the pixels range is 0-1,dtype is float.\n",
    "f.create_dataset(\"train_img\", train_shape, np.uint8)\n",
    "f.create_dataset(\"val_img\", test_shape, np.uint8)  \n",
    "\n",
    "# the \".create_dataset\" object is like a dictionary, the \"train_labels\" is the key. \n",
    "dt = h5py.special_dtype(vlen=str)\n",
    "f.create_dataset(\"train_labels\", (len(train_addrs),), np.uint)\n",
    "f[\"train_labels\"][...] = train_labels\n",
    "\n",
    "f.create_dataset(\"val_labels\", (len(val_addrs),), np.uint)\n",
    "f[\"val_labels\"][...] = val_labels\n",
    "\n"
   ]
  },
  {
   "cell_type": "code",
   "execution_count": 6,
   "id": "8d960898",
   "metadata": {},
   "outputs": [
    {
     "name": "stdout",
     "output_type": "stream",
     "text": [
      "Train data: 1000/100000\n",
      "Train data: 2000/100000\n",
      "Train data: 3000/100000\n",
      "Train data: 4000/100000\n",
      "Train data: 5000/100000\n",
      "Train data: 6000/100000\n",
      "Train data: 7000/100000\n",
      "Train data: 8000/100000\n",
      "Train data: 9000/100000\n",
      "Train data: 10000/100000\n",
      "Train data: 11000/100000\n",
      "Train data: 12000/100000\n",
      "Train data: 13000/100000\n",
      "Train data: 14000/100000\n",
      "Train data: 15000/100000\n",
      "Train data: 16000/100000\n",
      "Train data: 17000/100000\n",
      "Train data: 18000/100000\n",
      "Train data: 19000/100000\n",
      "Train data: 20000/100000\n",
      "Train data: 21000/100000\n",
      "Train data: 22000/100000\n",
      "Train data: 23000/100000\n",
      "Train data: 24000/100000\n",
      "Train data: 25000/100000\n",
      "Train data: 26000/100000\n",
      "Train data: 27000/100000\n",
      "Train data: 28000/100000\n",
      "Train data: 29000/100000\n",
      "Train data: 30000/100000\n",
      "Train data: 31000/100000\n",
      "Train data: 32000/100000\n",
      "Train data: 33000/100000\n",
      "Train data: 34000/100000\n",
      "Train data: 35000/100000\n",
      "Train data: 36000/100000\n",
      "Train data: 37000/100000\n",
      "Train data: 38000/100000\n",
      "Train data: 39000/100000\n",
      "Train data: 40000/100000\n",
      "Train data: 41000/100000\n",
      "Train data: 42000/100000\n",
      "Train data: 43000/100000\n",
      "Train data: 44000/100000\n",
      "Train data: 45000/100000\n",
      "Train data: 46000/100000\n",
      "Train data: 47000/100000\n",
      "Train data: 48000/100000\n",
      "Train data: 49000/100000\n",
      "Train data: 50000/100000\n",
      "Train data: 51000/100000\n",
      "Train data: 52000/100000\n",
      "Train data: 53000/100000\n",
      "Train data: 54000/100000\n",
      "Train data: 55000/100000\n",
      "Train data: 56000/100000\n",
      "Train data: 57000/100000\n",
      "Train data: 58000/100000\n",
      "Train data: 59000/100000\n",
      "Train data: 60000/100000\n",
      "Train data: 61000/100000\n",
      "Train data: 62000/100000\n",
      "Train data: 63000/100000\n",
      "Train data: 64000/100000\n",
      "Train data: 65000/100000\n",
      "Train data: 66000/100000\n",
      "Train data: 67000/100000\n",
      "Train data: 68000/100000\n",
      "Train data: 69000/100000\n",
      "Train data: 70000/100000\n",
      "Train data: 71000/100000\n",
      "Train data: 72000/100000\n",
      "Train data: 73000/100000\n",
      "Train data: 74000/100000\n",
      "Train data: 75000/100000\n",
      "Train data: 76000/100000\n",
      "Train data: 77000/100000\n",
      "Train data: 78000/100000\n",
      "Train data: 79000/100000\n",
      "Train data: 80000/100000\n",
      "Train data: 81000/100000\n",
      "Train data: 82000/100000\n",
      "Train data: 83000/100000\n",
      "Train data: 84000/100000\n",
      "Train data: 85000/100000\n",
      "Train data: 86000/100000\n",
      "Train data: 87000/100000\n",
      "Train data: 88000/100000\n",
      "Train data: 89000/100000\n",
      "Train data: 90000/100000\n",
      "Train data: 91000/100000\n",
      "Train data: 92000/100000\n",
      "Train data: 93000/100000\n",
      "Train data: 94000/100000\n",
      "Train data: 95000/100000\n",
      "Train data: 96000/100000\n",
      "Train data: 97000/100000\n",
      "Train data: 98000/100000\n",
      "Train data: 99000/100000\n",
      "Val data: 1000/10000\n",
      "Val data: 2000/10000\n",
      "Val data: 3000/10000\n",
      "Val data: 4000/10000\n",
      "Val data: 5000/10000\n",
      "Val data: 6000/10000\n",
      "Val data: 7000/10000\n",
      "Val data: 8000/10000\n",
      "Val data: 9000/10000\n"
     ]
    }
   ],
   "source": [
    "######################## third part: write the images #########################\n",
    "\n",
    "# loop over train paths\n",
    "for i in range(len(train_addrs)):\n",
    "  \n",
    "    if i % 1000 == 0 and i > 1:\n",
    "        print ('Train data: {}/{}'.format(i, len(train_addrs)) )\n",
    "\n",
    "    addr = train_addrs[i]\n",
    "    img = cv2.imread(addr)\n",
    "    img = cv2.cvtColor(img, cv2.COLOR_BGR2RGB) # cv2 load images as BGR, convert it to RGB\n",
    "    f[\"train_img\"][i, ...] = img[None] \n",
    "\n",
    "# loop over test paths\n",
    "for i in range(len(val_addrs)):\n",
    "\n",
    "    if i % 1000 == 0 and i > 1:\n",
    "        print ('Val data: {}/{}'.format(i, len(val_addrs)) )\n",
    "\n",
    "    addr = val_addrs[i]\n",
    "    img = cv2.imread(addr)\n",
    "    img = cv2.cvtColor(img, cv2.COLOR_BGR2RGB)\n",
    "    f[\"val_img\"][i, ...] = img[None]\n",
    "\n",
    "f.close()"
   ]
  },
  {
   "cell_type": "code",
   "execution_count": null,
   "id": "f6dd0870",
   "metadata": {},
   "outputs": [],
   "source": []
  }
 ],
 "metadata": {
  "kernelspec": {
   "display_name": "Python 3 (ipykernel)",
   "language": "python",
   "name": "python3"
  },
  "language_info": {
   "codemirror_mode": {
    "name": "ipython",
    "version": 3
   },
   "file_extension": ".py",
   "mimetype": "text/x-python",
   "name": "python",
   "nbconvert_exporter": "python",
   "pygments_lexer": "ipython3",
   "version": "3.8.12"
  }
 },
 "nbformat": 4,
 "nbformat_minor": 5
}
